{
 "cells": [
  {
   "cell_type": "markdown",
   "metadata": {},
   "source": [
    "##### Documentation: In neuroscience, fiber photometry combined with bulk calcium imaging is a method utilized to record the activity of a defined neuronal population in a target brain region in a free-moving animal performing a given task. In this method, a virus containing a calcium indicator (i.e. AAV-DIO-GCaMP) is injected in the brain region of interest and an optical fiber is implanted nearby the brain region of interest that now expresses the calcium indicator. Through the optical fiber, an excitation light is delivered and the overall fluorescence induced by calcium-activity during the light excitation is collected. Fiber photometry sums up the overall fluorescence of neurons expressing the genetically encoded calcium indicator, GCaMP, and can be used as a proxy for neuronal activation. The typical setup for freely behaving animals consists of the excitation light source (470 nm - to excite GCaMP), the beamsplitter/combiner that separates excitation and fluorescence light, the fiber-optic rotary joint, the optical cannula and connecting fiber-optic patch cords. Our set-up also contains an autofluorescence light (405 nm) which is used as a control light to account for photobleaching and movement artifacts (Beas et al 2018).  \n",
    "##### The purpose of this code is to analyze and calculate DF/F for photometry recordings from a mouse expressing GCaMP in the paraventricular nucleus of the thalamus (PVT) as in (Beas et al 2018). The activity of neurons of the PVT were recorded while the mouse ate food pellets. \n",
    "##### After imaging from mice, three documents were exported from the photometry set up: 1- autofluorescence signal. 2- GCaMP signal  (our photometry rig collects 8 samples per second for both the GCaMP and the autofluorescence). 3- TTL pulses showing the times when the mouse ate a food pellet. \n",
    "\n",
    "#### ΔF/F0 analysis: As in Beas et al 2008, this code will analyze data by first applying  a least-squares linear fit to the 405-nm signal (auto) to align it to the 470-nm signal (GCaMP).  \t\t\t\t\t\t\t\t\t\t\t\t\t\t\t\t\t\tThe resulting fitted 405-nm signal was then used to normalize the 473-nm signal as follows:\t\t\t\t\t\t\t\t\t\t\t\t\t\t\t\t\t\t\t\t\n",
    "### ΔF/F0 = (473-nm signal − fitted 405-nm signal)/fitted 405-nm signal. \t\t\t\t\t\t"
   ]
  },
  {
   "cell_type": "code",
   "execution_count": 2,
   "metadata": {},
   "outputs": [],
   "source": [
    "#Import packages needed\n",
    "import pandas as pd\n",
    "import numpy as np\n",
    "from pylab import *\n",
    "import matplotlib.lines as mlines #matplotlib\n",
    "import matplotlib.pyplot as plt #matplotlib\n",
    "plt.style.use('ggplot') #emulate ggplot from R\n",
    "% matplotlib inline \n",
    "#view plots in jupyter notebook"
   ]
  },
  {
   "cell_type": "markdown",
   "metadata": {},
   "source": [
    "## 1.- Load Auto, GCamp and Pulses data"
   ]
  },
  {
   "cell_type": "code",
   "execution_count": 3,
   "metadata": {},
   "outputs": [],
   "source": [
    "auto = pd.read_csv('./A1_food2_AF.csv') #Import autofluorescence signal file \n",
    "gc = pd.read_csv('./A1_food2_GC.csv') #Import GCaMP signal file \n",
    "pulses = pd.read_csv('./A1_food2_pulse.csv') #Import times (as pulses) when mouse ate a food pellet"
   ]
  },
  {
   "cell_type": "code",
   "execution_count": 4,
   "metadata": {},
   "outputs": [
    {
     "data": {
      "text/html": [
       "<div>\n",
       "<style scoped>\n",
       "    .dataframe tbody tr th:only-of-type {\n",
       "        vertical-align: middle;\n",
       "    }\n",
       "\n",
       "    .dataframe tbody tr th {\n",
       "        vertical-align: top;\n",
       "    }\n",
       "\n",
       "    .dataframe thead th {\n",
       "        text-align: right;\n",
       "    }\n",
       "</style>\n",
       "<table border=\"1\" class=\"dataframe\">\n",
       "  <thead>\n",
       "    <tr style=\"text-align: right;\">\n",
       "      <th></th>\n",
       "      <th>BLOCK</th>\n",
       "      <th>EVENT</th>\n",
       "      <th>TIME</th>\n",
       "      <th>CHAN</th>\n",
       "      <th>Sampling_Freq</th>\n",
       "      <th>NumOfPoints</th>\n",
       "      <th>D0</th>\n",
       "      <th>D1</th>\n",
       "      <th>D2</th>\n",
       "      <th>D3</th>\n",
       "      <th>...</th>\n",
       "      <th>D119</th>\n",
       "      <th>D120</th>\n",
       "      <th>D121</th>\n",
       "      <th>D122</th>\n",
       "      <th>D123</th>\n",
       "      <th>D124</th>\n",
       "      <th>D125</th>\n",
       "      <th>D126</th>\n",
       "      <th>D127</th>\n",
       "      <th>Unnamed: 134</th>\n",
       "    </tr>\n",
       "  </thead>\n",
       "  <tbody>\n",
       "    <tr>\n",
       "      <th>0</th>\n",
       "      <td>test-181023-133458</td>\n",
       "      <td>Dv2A</td>\n",
       "      <td>0.000000</td>\n",
       "      <td>1</td>\n",
       "      <td>1017.252625</td>\n",
       "      <td>128</td>\n",
       "      <td>0.177454</td>\n",
       "      <td>0.179541</td>\n",
       "      <td>0.181627</td>\n",
       "      <td>0.183712</td>\n",
       "      <td>...</td>\n",
       "      <td>1.909245</td>\n",
       "      <td>2.018489</td>\n",
       "      <td>2.133489</td>\n",
       "      <td>2.254447</td>\n",
       "      <td>2.381572</td>\n",
       "      <td>2.515072</td>\n",
       "      <td>2.655158</td>\n",
       "      <td>2.802047</td>\n",
       "      <td>2.955955</td>\n",
       "      <td>NaN</td>\n",
       "    </tr>\n",
       "    <tr>\n",
       "      <th>1</th>\n",
       "      <td>test-181023-133458</td>\n",
       "      <td>Dv2A</td>\n",
       "      <td>0.125829</td>\n",
       "      <td>1</td>\n",
       "      <td>1017.252625</td>\n",
       "      <td>128</td>\n",
       "      <td>3.117103</td>\n",
       "      <td>3.285710</td>\n",
       "      <td>3.462000</td>\n",
       "      <td>3.646199</td>\n",
       "      <td>...</td>\n",
       "      <td>126.763466</td>\n",
       "      <td>128.825577</td>\n",
       "      <td>130.900147</td>\n",
       "      <td>132.986847</td>\n",
       "      <td>135.085403</td>\n",
       "      <td>137.195480</td>\n",
       "      <td>139.316803</td>\n",
       "      <td>141.449036</td>\n",
       "      <td>143.591858</td>\n",
       "      <td>NaN</td>\n",
       "    </tr>\n",
       "  </tbody>\n",
       "</table>\n",
       "<p>2 rows × 135 columns</p>\n",
       "</div>"
      ],
      "text/plain": [
       "                BLOCK EVENT      TIME  CHAN  Sampling_Freq  NumOfPoints  \\\n",
       "0  test-181023-133458  Dv2A  0.000000     1    1017.252625          128   \n",
       "1  test-181023-133458  Dv2A  0.125829     1    1017.252625          128   \n",
       "\n",
       "         D0        D1        D2        D3      ...             D119  \\\n",
       "0  0.177454  0.179541  0.181627  0.183712      ...         1.909245   \n",
       "1  3.117103  3.285710  3.462000  3.646199      ...       126.763466   \n",
       "\n",
       "         D120        D121        D122        D123        D124        D125  \\\n",
       "0    2.018489    2.133489    2.254447    2.381572    2.515072    2.655158   \n",
       "1  128.825577  130.900147  132.986847  135.085403  137.195480  139.316803   \n",
       "\n",
       "         D126        D127  Unnamed: 134  \n",
       "0    2.802047    2.955955           NaN  \n",
       "1  141.449036  143.591858           NaN  \n",
       "\n",
       "[2 rows x 135 columns]"
      ]
     },
     "execution_count": 4,
     "metadata": {},
     "output_type": "execute_result"
    }
   ],
   "source": [
    "#checking our auto file import\n",
    "auto.head(2)"
   ]
  },
  {
   "cell_type": "code",
   "execution_count": 5,
   "metadata": {},
   "outputs": [
    {
     "data": {
      "text/html": [
       "<div>\n",
       "<style scoped>\n",
       "    .dataframe tbody tr th:only-of-type {\n",
       "        vertical-align: middle;\n",
       "    }\n",
       "\n",
       "    .dataframe tbody tr th {\n",
       "        vertical-align: top;\n",
       "    }\n",
       "\n",
       "    .dataframe thead th {\n",
       "        text-align: right;\n",
       "    }\n",
       "</style>\n",
       "<table border=\"1\" class=\"dataframe\">\n",
       "  <thead>\n",
       "    <tr style=\"text-align: right;\">\n",
       "      <th></th>\n",
       "      <th>BLOCK</th>\n",
       "      <th>EVENT</th>\n",
       "      <th>TIME</th>\n",
       "      <th>CHAN</th>\n",
       "      <th>Sampling_Freq</th>\n",
       "      <th>NumOfPoints</th>\n",
       "      <th>D0</th>\n",
       "      <th>D1</th>\n",
       "      <th>D2</th>\n",
       "      <th>D3</th>\n",
       "      <th>...</th>\n",
       "      <th>D119</th>\n",
       "      <th>D120</th>\n",
       "      <th>D121</th>\n",
       "      <th>D122</th>\n",
       "      <th>D123</th>\n",
       "      <th>D124</th>\n",
       "      <th>D125</th>\n",
       "      <th>D126</th>\n",
       "      <th>D127</th>\n",
       "      <th>Unnamed: 134</th>\n",
       "    </tr>\n",
       "  </thead>\n",
       "  <tbody>\n",
       "    <tr>\n",
       "      <th>0</th>\n",
       "      <td>test-181023-133458</td>\n",
       "      <td>Dv1G</td>\n",
       "      <td>0.000000</td>\n",
       "      <td>1</td>\n",
       "      <td>1017.252625</td>\n",
       "      <td>128</td>\n",
       "      <td>0.054792</td>\n",
       "      <td>0.056013</td>\n",
       "      <td>0.057252</td>\n",
       "      <td>0.058511</td>\n",
       "      <td>...</td>\n",
       "      <td>2.942753</td>\n",
       "      <td>3.124505</td>\n",
       "      <td>3.315684</td>\n",
       "      <td>3.516624</td>\n",
       "      <td>3.727663</td>\n",
       "      <td>3.949142</td>\n",
       "      <td>4.181409</td>\n",
       "      <td>4.424813</td>\n",
       "      <td>4.679705</td>\n",
       "      <td>NaN</td>\n",
       "    </tr>\n",
       "    <tr>\n",
       "      <th>1</th>\n",
       "      <td>test-181023-133458</td>\n",
       "      <td>Dv1G</td>\n",
       "      <td>0.125829</td>\n",
       "      <td>1</td>\n",
       "      <td>1017.252625</td>\n",
       "      <td>128</td>\n",
       "      <td>4.946445</td>\n",
       "      <td>5.225391</td>\n",
       "      <td>5.516909</td>\n",
       "      <td>5.821367</td>\n",
       "      <td>...</td>\n",
       "      <td>206.260223</td>\n",
       "      <td>209.602554</td>\n",
       "      <td>212.964767</td>\n",
       "      <td>216.346390</td>\n",
       "      <td>219.746857</td>\n",
       "      <td>223.165680</td>\n",
       "      <td>226.602387</td>\n",
       "      <td>230.056320</td>\n",
       "      <td>233.527054</td>\n",
       "      <td>NaN</td>\n",
       "    </tr>\n",
       "  </tbody>\n",
       "</table>\n",
       "<p>2 rows × 135 columns</p>\n",
       "</div>"
      ],
      "text/plain": [
       "                BLOCK EVENT      TIME  CHAN  Sampling_Freq  NumOfPoints  \\\n",
       "0  test-181023-133458  Dv1G  0.000000     1    1017.252625          128   \n",
       "1  test-181023-133458  Dv1G  0.125829     1    1017.252625          128   \n",
       "\n",
       "         D0        D1        D2        D3      ...             D119  \\\n",
       "0  0.054792  0.056013  0.057252  0.058511      ...         2.942753   \n",
       "1  4.946445  5.225391  5.516909  5.821367      ...       206.260223   \n",
       "\n",
       "         D120        D121        D122        D123        D124        D125  \\\n",
       "0    3.124505    3.315684    3.516624    3.727663    3.949142    4.181409   \n",
       "1  209.602554  212.964767  216.346390  219.746857  223.165680  226.602387   \n",
       "\n",
       "         D126        D127  Unnamed: 134  \n",
       "0    4.424813    4.679705           NaN  \n",
       "1  230.056320  233.527054           NaN  \n",
       "\n",
       "[2 rows x 135 columns]"
      ]
     },
     "execution_count": 5,
     "metadata": {},
     "output_type": "execute_result"
    }
   ],
   "source": [
    "#checking our GC file import\n",
    "gc.head(2)"
   ]
  },
  {
   "cell_type": "code",
   "execution_count": 6,
   "metadata": {},
   "outputs": [
    {
     "data": {
      "text/html": [
       "<div>\n",
       "<style scoped>\n",
       "    .dataframe tbody tr th:only-of-type {\n",
       "        vertical-align: middle;\n",
       "    }\n",
       "\n",
       "    .dataframe tbody tr th {\n",
       "        vertical-align: top;\n",
       "    }\n",
       "\n",
       "    .dataframe thead th {\n",
       "        text-align: right;\n",
       "    }\n",
       "</style>\n",
       "<table border=\"1\" class=\"dataframe\">\n",
       "  <thead>\n",
       "    <tr style=\"text-align: right;\">\n",
       "      <th></th>\n",
       "      <th>BLOCK</th>\n",
       "      <th>EVENT</th>\n",
       "      <th>TIME</th>\n",
       "      <th>CHAN</th>\n",
       "      <th>Sampling_Freq</th>\n",
       "      <th>NumOfPoints</th>\n",
       "      <th>D0</th>\n",
       "    </tr>\n",
       "  </thead>\n",
       "  <tbody>\n",
       "    <tr>\n",
       "      <th>0</th>\n",
       "      <td>Subject1-181024-130008</td>\n",
       "      <td>PtC0</td>\n",
       "      <td>136</td>\n",
       "      <td>0</td>\n",
       "      <td>0</td>\n",
       "      <td>1</td>\n",
       "      <td>1</td>\n",
       "    </tr>\n",
       "    <tr>\n",
       "      <th>1</th>\n",
       "      <td>Subject1-181024-130008</td>\n",
       "      <td>PtC0</td>\n",
       "      <td>154</td>\n",
       "      <td>0</td>\n",
       "      <td>0</td>\n",
       "      <td>1</td>\n",
       "      <td>2</td>\n",
       "    </tr>\n",
       "  </tbody>\n",
       "</table>\n",
       "</div>"
      ],
      "text/plain": [
       "                    BLOCK EVENT  TIME  CHAN  Sampling_Freq  NumOfPoints  D0\n",
       "0  Subject1-181024-130008  PtC0   136     0              0            1   1\n",
       "1  Subject1-181024-130008  PtC0   154     0              0            1   2"
      ]
     },
     "execution_count": 6,
     "metadata": {},
     "output_type": "execute_result"
    }
   ],
   "source": [
    "#checking our pulses file import. Note that in TIME column denotes in seconds when the mouse ate a food pellet.\n",
    "pulses.head(2)"
   ]
  },
  {
   "cell_type": "markdown",
   "metadata": {},
   "source": [
    "## 2.- Slice data frames into only columns of interest.  Photometry files export different readings of the GCaMP and auto signals in different colums (D0, D1, D2... etc) using different paramaters. In our analysis, we use D0 as the \"raw\" measurement of our signal. As a result, we discard the rest of the columns. "
   ]
  },
  {
   "cell_type": "code",
   "execution_count": 7,
   "metadata": {},
   "outputs": [],
   "source": [
    "# Slice data frames into only columns of interest. \n",
    "time = auto['TIME'].values # Time is needed to be able to determine when the mouse ate the pellet.\n",
    "auto_d0 = auto['D0'].values # Raw autofluorescence signal \n",
    "gc_d0 = gc['D0'].values # Raw GCaMP signal \n",
    "master_df = pd.DataFrame(columns=('time', 'auto_d0', 'gc_d0'), index=np.arange(0,len(time)))"
   ]
  },
  {
   "cell_type": "markdown",
   "metadata": {},
   "source": [
    "## 3.- Create a new master data frame that combines all the columns of interest (data needed for the analysis)."
   ]
  },
  {
   "cell_type": "code",
   "execution_count": 8,
   "metadata": {},
   "outputs": [
    {
     "data": {
      "text/html": [
       "<div>\n",
       "<style scoped>\n",
       "    .dataframe tbody tr th:only-of-type {\n",
       "        vertical-align: middle;\n",
       "    }\n",
       "\n",
       "    .dataframe tbody tr th {\n",
       "        vertical-align: top;\n",
       "    }\n",
       "\n",
       "    .dataframe thead th {\n",
       "        text-align: right;\n",
       "    }\n",
       "</style>\n",
       "<table border=\"1\" class=\"dataframe\">\n",
       "  <thead>\n",
       "    <tr style=\"text-align: right;\">\n",
       "      <th></th>\n",
       "      <th>time</th>\n",
       "      <th>auto_d0</th>\n",
       "      <th>gc_d0</th>\n",
       "    </tr>\n",
       "  </thead>\n",
       "  <tbody>\n",
       "    <tr>\n",
       "      <th>0</th>\n",
       "      <td>0.000000</td>\n",
       "      <td>0.177454</td>\n",
       "      <td>0.054792</td>\n",
       "    </tr>\n",
       "    <tr>\n",
       "      <th>1</th>\n",
       "      <td>0.125829</td>\n",
       "      <td>3.117103</td>\n",
       "      <td>4.946445</td>\n",
       "    </tr>\n",
       "    <tr>\n",
       "      <th>2</th>\n",
       "      <td>0.251658</td>\n",
       "      <td>145.744949</td>\n",
       "      <td>237.014084</td>\n",
       "    </tr>\n",
       "    <tr>\n",
       "      <th>3</th>\n",
       "      <td>0.377487</td>\n",
       "      <td>382.443634</td>\n",
       "      <td>617.052856</td>\n",
       "    </tr>\n",
       "    <tr>\n",
       "      <th>4</th>\n",
       "      <td>0.503316</td>\n",
       "      <td>352.730865</td>\n",
       "      <td>564.134705</td>\n",
       "    </tr>\n",
       "  </tbody>\n",
       "</table>\n",
       "</div>"
      ],
      "text/plain": [
       "       time     auto_d0       gc_d0\n",
       "0  0.000000    0.177454    0.054792\n",
       "1  0.125829    3.117103    4.946445\n",
       "2  0.251658  145.744949  237.014084\n",
       "3  0.377487  382.443634  617.052856\n",
       "4  0.503316  352.730865  564.134705"
      ]
     },
     "execution_count": 8,
     "metadata": {},
     "output_type": "execute_result"
    }
   ],
   "source": [
    "# Creating master data frame containing only the important columns needed for DF_F analysis from both auto and gcamp\n",
    "master_df['time'] = time\n",
    "master_df['auto_d0'] = auto_d0\n",
    "master_df['gc_d0'] = gc_d0\n",
    "master_df.head()"
   ]
  },
  {
   "cell_type": "markdown",
   "metadata": {},
   "source": [
    "## 4.- Make the pulse d0 column equivalent to the auto and gcamp to be able to locate the gcamp and auto signal when the mouse was eating. "
   ]
  },
  {
   "cell_type": "code",
   "execution_count": 9,
   "metadata": {},
   "outputs": [
    {
     "data": {
      "text/plain": [
       "array([0., 0., 0., 0., 0.])"
      ]
     },
     "execution_count": 9,
     "metadata": {},
     "output_type": "execute_result"
    }
   ],
   "source": [
    "# Insert new column (pulses_d0) into master dataframe. Initialize with zeros.\n",
    "pulse_d0 = np.zeros(len(time))\n",
    "pulse_d0[:5]"
   ]
  },
  {
   "cell_type": "code",
   "execution_count": 10,
   "metadata": {},
   "outputs": [
    {
     "data": {
      "text/html": [
       "<div>\n",
       "<style scoped>\n",
       "    .dataframe tbody tr th:only-of-type {\n",
       "        vertical-align: middle;\n",
       "    }\n",
       "\n",
       "    .dataframe tbody tr th {\n",
       "        vertical-align: top;\n",
       "    }\n",
       "\n",
       "    .dataframe thead th {\n",
       "        text-align: right;\n",
       "    }\n",
       "</style>\n",
       "<table border=\"1\" class=\"dataframe\">\n",
       "  <thead>\n",
       "    <tr style=\"text-align: right;\">\n",
       "      <th></th>\n",
       "      <th>time</th>\n",
       "      <th>auto_d0</th>\n",
       "      <th>gc_d0</th>\n",
       "      <th>pulses_d0</th>\n",
       "    </tr>\n",
       "  </thead>\n",
       "  <tbody>\n",
       "    <tr>\n",
       "      <th>0</th>\n",
       "      <td>0.000000</td>\n",
       "      <td>0.177454</td>\n",
       "      <td>0.054792</td>\n",
       "      <td>0.0</td>\n",
       "    </tr>\n",
       "    <tr>\n",
       "      <th>1</th>\n",
       "      <td>0.125829</td>\n",
       "      <td>3.117103</td>\n",
       "      <td>4.946445</td>\n",
       "      <td>0.0</td>\n",
       "    </tr>\n",
       "    <tr>\n",
       "      <th>2</th>\n",
       "      <td>0.251658</td>\n",
       "      <td>145.744949</td>\n",
       "      <td>237.014084</td>\n",
       "      <td>0.0</td>\n",
       "    </tr>\n",
       "  </tbody>\n",
       "</table>\n",
       "</div>"
      ],
      "text/plain": [
       "       time     auto_d0       gc_d0  pulses_d0\n",
       "0  0.000000    0.177454    0.054792        0.0\n",
       "1  0.125829    3.117103    4.946445        0.0\n",
       "2  0.251658  145.744949  237.014084        0.0"
      ]
     },
     "execution_count": 10,
     "metadata": {},
     "output_type": "execute_result"
    }
   ],
   "source": [
    "# Insert pulses_d0 into master dataframe\n",
    "master_df['pulses_d0'] = pulse_d0\n",
    "master_df.head(3)"
   ]
  },
  {
   "cell_type": "markdown",
   "metadata": {},
   "source": [
    "###  Check point- checking how may pulses we have and the length of the file"
   ]
  },
  {
   "cell_type": "code",
   "execution_count": 11,
   "metadata": {},
   "outputs": [
    {
     "name": "stdout",
     "output_type": "stream",
     "text": [
      "25\n",
      "14357\n"
     ]
    }
   ],
   "source": [
    "pulses_time = pulses['TIME'].values\n",
    "print(len(pulses_time))\n",
    "print(len(time))"
   ]
  },
  {
   "cell_type": "code",
   "execution_count": 12,
   "metadata": {},
   "outputs": [
    {
     "data": {
      "text/plain": [
       "[136, 154]"
      ]
     },
     "execution_count": 12,
     "metadata": {},
     "output_type": "execute_result"
    }
   ],
   "source": [
    "#round time to be able to localizate it better in our pulse time (since photometry rig takes 8 samples per second)\n",
    "pulses_time = [round(t, 1) for t in pulses_time]\n",
    "pulses_time[:2]"
   ]
  },
  {
   "cell_type": "code",
   "execution_count": 13,
   "metadata": {},
   "outputs": [
    {
     "data": {
      "text/html": [
       "<div>\n",
       "<style scoped>\n",
       "    .dataframe tbody tr th:only-of-type {\n",
       "        vertical-align: middle;\n",
       "    }\n",
       "\n",
       "    .dataframe tbody tr th {\n",
       "        vertical-align: top;\n",
       "    }\n",
       "\n",
       "    .dataframe thead th {\n",
       "        text-align: right;\n",
       "    }\n",
       "</style>\n",
       "<table border=\"1\" class=\"dataframe\">\n",
       "  <thead>\n",
       "    <tr style=\"text-align: right;\">\n",
       "      <th></th>\n",
       "      <th>time</th>\n",
       "      <th>auto_d0</th>\n",
       "      <th>gc_d0</th>\n",
       "      <th>pulses_d0</th>\n",
       "    </tr>\n",
       "  </thead>\n",
       "  <tbody>\n",
       "    <tr>\n",
       "      <th>1081</th>\n",
       "      <td>136.021279</td>\n",
       "      <td>337.760132</td>\n",
       "      <td>485.206604</td>\n",
       "      <td>0.0</td>\n",
       "    </tr>\n",
       "  </tbody>\n",
       "</table>\n",
       "</div>"
      ],
      "text/plain": [
       "            time     auto_d0       gc_d0  pulses_d0\n",
       "1081  136.021279  337.760132  485.206604        0.0"
      ]
     },
     "execution_count": 13,
     "metadata": {},
     "output_type": "execute_result"
    }
   ],
   "source": [
    "#checking point for loacalizing the rows where pulses are located \n",
    "sub_set = master_df[master_df['time'] > 136] \n",
    "sub_set[sub_set['time'] < 136 + 0.1]"
   ]
  },
  {
   "cell_type": "markdown",
   "metadata": {},
   "source": [
    "## 5.- Create a method that locates pulses\n",
    "\n",
    "The method takes a array of pulse times and the master dataframe as inputs and returns an array of matching times in the master dataframe"
   ]
  },
  {
   "cell_type": "code",
   "execution_count": 14,
   "metadata": {},
   "outputs": [
    {
     "data": {
      "text/plain": [
       "[array([136.0212786, 136.1471078]),\n",
       " array([154.014843, 154.140672]),\n",
       " array([166.0944383]),\n",
       " array([177.0415719, 177.1674011]),\n",
       " array([199.0616679, 199.1874969])]"
      ]
     },
     "execution_count": 14,
     "metadata": {},
     "output_type": "execute_result"
    }
   ],
   "source": [
    "#Localizing the pulse times in gcamp (GC) column and auto column\n",
    "def locate_pulses(pt, master):\n",
    "    results = []\n",
    "    for element in pt:\n",
    "        subset = master[master['time'] > element]\n",
    "        record = subset[subset['time'] < element + 0.2]\n",
    "        results.append(record['time'].values)\n",
    "    return results\n",
    "        \n",
    "p_results = locate_pulses(pulses_time, master_df)\n",
    "p_results[:5]"
   ]
  },
  {
   "cell_type": "code",
   "execution_count": 15,
   "metadata": {},
   "outputs": [
    {
     "name": "stdout",
     "output_type": "stream",
     "text": [
      "25\n",
      "[136.0212786, 154.01484299999998, 166.0944383]\n"
     ]
    }
   ],
   "source": [
    "#Getting rid of duplicate values found \n",
    "buffer = []\n",
    "for el in p_results:\n",
    "    buffer.append(el[0])\n",
    "print(len(buffer))\n",
    "print(buffer[:3])\n",
    "p_results = buffer"
   ]
  },
  {
   "cell_type": "markdown",
   "metadata": {},
   "source": [
    "## 6.- Set 'pulses_d0' values for matching records in Master Dataframe"
   ]
  },
  {
   "cell_type": "code",
   "execution_count": 16,
   "metadata": {},
   "outputs": [],
   "source": [
    "# Mark down in pulses column with a 5 the time when the pulse occurred (replace the 0 with a 5).\n",
    "for el in p_results:\n",
    "    indx = master_df[master_df['time'] == el].index[0]\n",
    "    master_df.loc[indx]['pulses_d0'] = 5\n"
   ]
  },
  {
   "cell_type": "markdown",
   "metadata": {},
   "source": [
    "## 7.- Generate CSV with master data and pulses information"
   ]
  },
  {
   "cell_type": "code",
   "execution_count": 17,
   "metadata": {},
   "outputs": [],
   "source": [
    "master_df.to_csv('./master_with_pulses.csv') "
   ]
  },
  {
   "cell_type": "code",
   "execution_count": 18,
   "metadata": {},
   "outputs": [
    {
     "data": {
      "text/html": [
       "<div>\n",
       "<style scoped>\n",
       "    .dataframe tbody tr th:only-of-type {\n",
       "        vertical-align: middle;\n",
       "    }\n",
       "\n",
       "    .dataframe tbody tr th {\n",
       "        vertical-align: top;\n",
       "    }\n",
       "\n",
       "    .dataframe thead th {\n",
       "        text-align: right;\n",
       "    }\n",
       "</style>\n",
       "<table border=\"1\" class=\"dataframe\">\n",
       "  <thead>\n",
       "    <tr style=\"text-align: right;\">\n",
       "      <th></th>\n",
       "      <th>time</th>\n",
       "      <th>auto_d0</th>\n",
       "      <th>gc_d0</th>\n",
       "      <th>pulses_d0</th>\n",
       "    </tr>\n",
       "  </thead>\n",
       "  <tbody>\n",
       "    <tr>\n",
       "      <th>1081</th>\n",
       "      <td>136.021279</td>\n",
       "      <td>337.760132</td>\n",
       "      <td>485.206604</td>\n",
       "      <td>5.0</td>\n",
       "    </tr>\n",
       "    <tr>\n",
       "      <th>1224</th>\n",
       "      <td>154.014843</td>\n",
       "      <td>336.522797</td>\n",
       "      <td>485.088226</td>\n",
       "      <td>5.0</td>\n",
       "    </tr>\n",
       "    <tr>\n",
       "      <th>1320</th>\n",
       "      <td>166.094438</td>\n",
       "      <td>336.857880</td>\n",
       "      <td>482.434509</td>\n",
       "      <td>5.0</td>\n",
       "    </tr>\n",
       "    <tr>\n",
       "      <th>1407</th>\n",
       "      <td>177.041572</td>\n",
       "      <td>336.672577</td>\n",
       "      <td>483.199310</td>\n",
       "      <td>5.0</td>\n",
       "    </tr>\n",
       "    <tr>\n",
       "      <th>1582</th>\n",
       "      <td>199.061668</td>\n",
       "      <td>336.933838</td>\n",
       "      <td>485.312592</td>\n",
       "      <td>5.0</td>\n",
       "    </tr>\n",
       "  </tbody>\n",
       "</table>\n",
       "</div>"
      ],
      "text/plain": [
       "            time     auto_d0       gc_d0  pulses_d0\n",
       "1081  136.021279  337.760132  485.206604        5.0\n",
       "1224  154.014843  336.522797  485.088226        5.0\n",
       "1320  166.094438  336.857880  482.434509        5.0\n",
       "1407  177.041572  336.672577  483.199310        5.0\n",
       "1582  199.061668  336.933838  485.312592        5.0"
      ]
     },
     "execution_count": 18,
     "metadata": {},
     "output_type": "execute_result"
    }
   ],
   "source": [
    "# Checking that the 0 in pulses_d0 was replaced with a 5 in particular rows where the pulse happened \n",
    "subset = master_df[master_df['pulses_d0'] == 5]\n",
    "subset.head()"
   ]
  },
  {
   "cell_type": "code",
   "execution_count": 19,
   "metadata": {},
   "outputs": [],
   "source": [
    "pulse_onset_rows = [i for i in subset.index[:]]"
   ]
  },
  {
   "cell_type": "code",
   "execution_count": 20,
   "metadata": {},
   "outputs": [],
   "source": [
    "subset.to_csv('./A1_pulse_onset_rows.csv')"
   ]
  },
  {
   "cell_type": "markdown",
   "metadata": {},
   "source": [
    "## 8.- Identify the pulse onset and select the range for the analysis (For a deatiled explanation of DF_F analysis, please see Beas et al 2018 Methods section). "
   ]
  },
  {
   "cell_type": "code",
   "execution_count": 69,
   "metadata": {},
   "outputs": [
    {
     "name": "stdout",
     "output_type": "stream",
     "text": [
      "pulse_onset = 1081\n",
      "begin_input = 1065\n",
      "end_input = 1121\n",
      "A1_pellet_1\n"
     ]
    }
   ],
   "source": [
    "#create pulses_onset\n",
    "pulse_onset = 1081 #IMPORTANT - can change number to any of the numbers in pulse_onset_rows\n",
    "if pulse_onset in pulse_onset_rows:\n",
    "    print('pulse_onset =', pulse_onset)\n",
    "else:\n",
    "    raise ValueError('pulse_onset not found in pulse_onset_rows')\n",
    "#create begin_input \n",
    "begin_input = pulse_onset - 40 #IMPORTANT - can change number to any number of rows before pulse onset\n",
    "print('begin_input =', begin_input)\n",
    "#create last_row\n",
    "last_row = len(master_df) - pulse_onset - 1\n",
    "#create end_input\n",
    "end_input = pulse_onset + 80 #IMPORTANT - can change number to any number of rows after pulse onset or to last_row for the last row in the data set\n",
    "print('end_input =', end_input)\n",
    "#Important: Change pulse_onset value for each \"pulse\". \n",
    "    #Change \"begin_input\" to establish a baseline (pre-pulse). Change \"last_row\" to establish the length of the analysis (Post-pulse). \n",
    "    #Reminder: Our photometry rig takes 8 samples per second. Thus, for a 5 second baseline we need a lower of \"40\"  \n",
    "    #and for a 10 sec post pulse analysis, we need an upper of \"80\".\n",
    "#create file name for future files\n",
    "file_name = 'A1_pellet_1' #IMPORTANT - to change file name, format as 'file name'\n",
    "print(file_name)"
   ]
  },
  {
   "cell_type": "code",
   "execution_count": 70,
   "metadata": {},
   "outputs": [],
   "source": [
    "#create master_input pandas DataFrame\n",
    "master_input = master_df[begin_input:end_input + 1]"
   ]
  },
  {
   "cell_type": "markdown",
   "metadata": {},
   "source": [
    "## 9.- Determine auto/gcamp linear trendline equations. Create auto/gcamp scatter plots with auto/gcamp linear trendlines. Save the auto/gcamp plots as PDFs to the working directory."
   ]
  },
  {
   "cell_type": "code",
   "execution_count": 71,
   "metadata": {},
   "outputs": [],
   "source": [
    "#create master_trendlines pandas DataFrame\n",
    "master_trendlines = master_input.loc[begin_input:pulse_onset - 1]\n",
    "#reset master_trendlines row index \n",
    "master_trendlines = master_trendlines.reset_index(drop = True)\n",
    "#create x_master_trendlines (ranging from 1 to # rows in master_trendlines) pandas DataFrame\n",
    "x_range_master_trendlines = master_trendlines.axes[0] - (master_trendlines.axes[0][0] - 1)\n",
    "x_master_trendlines = pd.DataFrame({'x': x_range_master_trendlines})\n",
    "#add x_master_trendlines to master_trendlines \n",
    "master_trendlines = pd.concat([x_master_trendlines, master_trendlines], axis=1, join='inner') "
   ]
  },
  {
   "cell_type": "code",
   "execution_count": 72,
   "metadata": {},
   "outputs": [],
   "source": [
    "#determine auto linear trendline equation\n",
    "from pylab import *\n",
    "(a, b) = polyfit(master_trendlines.x, master_trendlines.auto_d0, 1)\n",
    "auto_linear_trendline_equation = 'y = ' + str(round(a, 5)) + 'x + ' + str(round(b, 5))"
   ]
  },
  {
   "cell_type": "code",
   "execution_count": 73,
   "metadata": {},
   "outputs": [
    {
     "data": {
      "image/png": "[encoded data removed]",
      "text/plain": [
       "<matplotlib.figure.Figure at 0x1120f82b0>"
      ]
     },
     "metadata": {},
     "output_type": "display_data"
    }
   ],
   "source": [
    "#create auto scatter plot with auto linear trendline\n",
    "plt.scatter(master_trendlines.x, master_trendlines.auto_d0, color = 'blue', s = 10)\n",
    "auto_trendline_values = polyval([a,b], master_trendlines.x)\n",
    "plt.plot(master_trendlines.x, auto_trendline_values, linewidth = 3, color = 'red')\n",
    "plt.title(auto_linear_trendline_equation, fontsize = 10, y = 0.9)\n",
    "plt.xlabel('x')\n",
    "plt.ylabel('autofluorescence')\n",
    "#save auto scatter plot as PDF to working directory\n",
    "plt.savefig('auto_plot_' + file_name + '.pdf')"
   ]
  },
  {
   "cell_type": "code",
   "execution_count": 74,
   "metadata": {},
   "outputs": [],
   "source": [
    "#determine gcamp linear trendline equation\n",
    "from pylab import *\n",
    "(c, d) = polyfit(master_trendlines.x, master_trendlines.gc_d0, 1)\n",
    "gcamp_linear_trendline_equation = 'y = ' + str(round(c, 5)) + 'x + ' + str(round(d, 5))"
   ]
  },
  {
   "cell_type": "code",
   "execution_count": 75,
   "metadata": {},
   "outputs": [
    {
     "data": {
      "image/png": "[encoded data removed]",
      "text/plain": [
       "<matplotlib.figure.Figure at 0x11219bc50>"
      ]
     },
     "metadata": {},
     "output_type": "display_data"
    }
   ],
   "source": [
    "#create gcamp scatter plot with gcamp linear trendline\n",
    "plt.scatter(master_trendlines.x, master_trendlines.gc_d0, color = 'blue', s = 10)\n",
    "gcamp_trendline_values = polyval([c,d], master_trendlines.x)\n",
    "plt.plot(master_trendlines.x, gcamp_trendline_values, linewidth = 3, color = 'red')\n",
    "plt.title(gcamp_linear_trendline_equation, fontsize = 10, y = 0.9)\n",
    "plt.xlabel('x')\n",
    "plt.ylabel('gcamp')\n",
    "#save gcamp scatter plot as PDF to working directory\n",
    "plt.savefig('gcamp_plot_' + file_name + '.pdf') "
   ]
  },
  {
   "cell_type": "markdown",
   "metadata": {},
   "source": [
    "## 10.- Create a master_calculations pandas DataFrame. Input x values (ranging from 1 to the # of rows in master_input) into the auto/gcamp linear trendline equations to calculate auto/gcamp trendline y values. Subtract auto/gcamp trendline y values from auto/gcamp to calculate auto/gcamp fit. Add gcamp trendline y-intercept to auto/gcamp fit to calculate auto/gcamp final. Add auto/gcamp trendline y values, auto/gcamp fit, and auto/gcamp final to the master_calculations pandas DataFrame."
   ]
  },
  {
   "cell_type": "code",
   "execution_count": 76,
   "metadata": {},
   "outputs": [],
   "source": [
    "#create master_calculations pandas DataFrame\n",
    "master_calculations = master_input\n",
    "#reset master_calculations row index \n",
    "master_calculations = master_calculations.reset_index(drop = True)\n",
    "#create x_master_calculations (ranging from 1 to # rows in master_calculations) pandas DataFrame\n",
    "x_range_master_calculations = master_calculations.axes[0] - (master_calculations.axes[0][0] - 1)\n",
    "x_master_calculations = pd.DataFrame({'x': x_range_master_calculations})\n",
    "#add x_master_calculations to master_calculations \n",
    "master_calculations = pd.concat([x_master_calculations, master_calculations], axis = 1, join = 'inner')"
   ]
  },
  {
   "cell_type": "code",
   "execution_count": 77,
   "metadata": {},
   "outputs": [],
   "source": [
    "#create auto_trendline_y pandas DataFrame \n",
    "auto_y_list = []\n",
    "for x in x_range_master_calculations:\n",
    "    y = a*x + b \n",
    "    auto_y_list.append(y)\n",
    "auto_y_array = np.array(auto_y_list)\n",
    "auto_trendline_y = pd.DataFrame({'auto_trendline_y': auto_y_array})\n",
    "#add auto_trendline_y to master_calculations\n",
    "master_calculations = pd.concat([master_calculations, auto_trendline_y], axis = 1, join = 'inner')\n",
    "#create gcamp_trendline_y pandas DataFrame\n",
    "gcamp_y_list = []\n",
    "for x in x_range_master_calculations:\n",
    "    y = c*x + d \n",
    "    gcamp_y_list.append(y)\n",
    "gcamp_y_array = np.array(gcamp_y_list)\n",
    "gcamp_trendline_y = pd.DataFrame({'gcamp_trendline_y': gcamp_y_array})\n",
    "#add gcamp_trendline_y to master_calculations\n",
    "master_calculations = pd.concat([master_calculations, gcamp_trendline_y], axis = 1, join = 'inner')"
   ]
  },
  {
   "cell_type": "code",
   "execution_count": 78,
   "metadata": {},
   "outputs": [],
   "source": [
    "#subtract auto_trendline_y from auto to create auto_fit column in master_calculations\n",
    "master_calculations['auto_fit'] = master_calculations['auto_d0'] - master_calculations['auto_trendline_y']\n",
    "#subtract gcamp_trendline_y from gcamp to create gcamp_fit column in master_calculations\n",
    "master_calculations['gcamp_fit'] = master_calculations['gc_d0'] - master_calculations['gcamp_trendline_y']"
   ]
  },
  {
   "cell_type": "code",
   "execution_count": 79,
   "metadata": {},
   "outputs": [],
   "source": [
    "#add gcamp_trendline y-intercept to auto_fit to create auto_fit column in master_calculations\n",
    "master_calculations['auto_final'] = d + master_calculations['auto_fit']\n",
    "#add gcamp_trendline y-intercept to gcamp_fit to create gcamp_fit column in master_calculations\n",
    "master_calculations['gcamp_final'] = d + master_calculations['gcamp_fit']"
   ]
  },
  {
   "cell_type": "markdown",
   "metadata": {},
   "source": [
    "## 11.- Calculate delta f/f (dff). Add dff to the master_calculations pandas DataFrame. Write out the master_calculations pandas DataFrame as a csv file to the working directory. Create a dff line plot. Save the dff line plot as a PDF to the working directory."
   ]
  },
  {
   "cell_type": "code",
   "execution_count": 80,
   "metadata": {},
   "outputs": [],
   "source": [
    "#calculate delta f/f (dff) and create dff column in master_calculations\n",
    "master_calculations['dff']= ((master_calculations['gcamp_final'] - master_calculations['auto_final'])/master_calculations['auto_final'])*100"
   ]
  },
  {
   "cell_type": "code",
   "execution_count": 81,
   "metadata": {},
   "outputs": [],
   "source": [
    "#write out master_calculations as a csv file to working directory\n",
    "master_calculations.to_csv('master_calculations_' + file_name + '.csv') "
   ]
  },
  {
   "cell_type": "code",
   "execution_count": 165,
   "metadata": {},
   "outputs": [
    {
     "data": {
      "image/png": "[encoded data removed]",
      "text/plain": [
       "<matplotlib.figure.Figure at 0x1102c1ac8>"
      ]
     },
     "metadata": {},
     "output_type": "display_data"
    }
   ],
   "source": [
    "#determine the rows in which pulse occurs\n",
    "pulse_rows_dff = master_calculations.loc[master_calculations.pulses_d0 > 1].index[:].tolist()\n",
    "#determine the rows in which pulse onset occurs\n",
    "pulse_onset_rows_dff = [pulse_rows_dff[0]]\n",
    "for i in range(2, len(pulse_rows_dff)):\n",
    "    if pulse_rows_dff[i] > pulse_rows_dff[i - 1] + 1: \n",
    "        pulse_onset_rows_dff.append(pulse_rows_dff[i])\n",
    "#determine the times in which pulse onset occurs\n",
    "pulse_onset_time_dff = list(master_calculations.time.loc[pulse_onset_rows_dff])\n",
    "#create dff line plot\n",
    "fig, ax = plt.subplots()\n",
    "ax.plot(master_calculations.time, master_calculations.dff, color = 'blue')\n",
    "ax.set_xlabel('time (sec)')\n",
    "ax.set_ylabel('delta f/f')\n",
    "x = 0\n",
    "while x < len(pulse_onset_time_dff):\n",
    "    ax.annotate(' ', xy =(pulse_onset_time_dff[x], min(master_calculations.dff)), arrowprops = dict(facecolor = 'black', shrink = 0.05))\n",
    "    x = x + 1\n",
    "arrow = mlines.Line2D([], [], color = 'black', marker = '^', markersize = 12, label = 'pulse onset')\n",
    "ax.legend(handles = [arrow])\n",
    "#save dff line plot as PDF to working directory\n",
    "fig.savefig('dff_plot_' + file_name + '.pdf') "
   ]
  },
  {
   "cell_type": "markdown",
   "metadata": {},
   "source": [
    "## 12.- Create a method for the DF_F_analysis"
   ]
  },
  {
   "cell_type": "code",
   "execution_count": 21,
   "metadata": {},
   "outputs": [],
   "source": [
    "def DF_F_analysis(indx, lower, upper, m_df):\n",
    "    #create pulses_onset\n",
    "    pulse_onset = indx #IMPORTANT - can change number to any of the numbers in pulse_onset_rows\n",
    "    if pulse_onset in pulse_onset_rows:\n",
    "        print('pulse_onset =', pulse_onset)\n",
    "    else:\n",
    "        raise ValueError('pulse_onset not found in pulse_onset_rows')\n",
    "    #create begin_input \n",
    "    begin_input = pulse_onset - lower #IMPORTANT - can change number to any number of rows before shock onset\n",
    "    print('begin_input =', begin_input)\n",
    "    #create last_row\n",
    "    last_row = len(m_df) - pulse_onset - 1\n",
    "    #create end_input\n",
    "    end_input = pulse_onset + upper #IMPORTANT - can change number to any number of rows after shock onset or to last_row for the last row in the data set\n",
    "    print('end_input =', end_input)\n",
    "    #create file name for future files\n",
    "    file_name = 'A1_pellet_' + str(indx) #IMPORTANT - to change file name, format as 'file name'\n",
    "    print(file_name)\n",
    "    \n",
    "    #create master_input pandas DataFrame\n",
    "    master_input = m_df[begin_input:end_input + 1]\n",
    "    \n",
    "    #create master_trendlines pandas DataFrame\n",
    "    master_trendlines = master_input.loc[begin_input:pulse_onset - 1]\n",
    "    #reset master_trendlines row index \n",
    "    master_trendlines = master_trendlines.reset_index(drop = True)\n",
    "    #create x_master_trendlines (ranging from 1 to # rows in master_trendlines) pandas DataFrame\n",
    "    x_range_master_trendlines = master_trendlines.axes[0] - (master_trendlines.axes[0][0] - 1)\n",
    "    x_master_trendlines = pd.DataFrame({'x': x_range_master_trendlines})\n",
    "    #add x_master_trendlines to master_trendlines \n",
    "    master_trendlines = pd.concat([x_master_trendlines, master_trendlines], axis=1, join='inner')\n",
    "    \n",
    "    #determine gcamp linear trendline equation\n",
    "    (a, b) = polyfit(master_trendlines.x, master_trendlines.auto_d0, 1)\n",
    "    auto_linear_trendline_equation = 'y = ' + str(round(a, 5)) + 'x + ' + str(round(b, 5))\n",
    "    \n",
    "    #create auto scatter plot with auto linear trendline\n",
    "    plt.scatter(master_trendlines.x, master_trendlines.auto_d0, color = 'blue', s = 10)\n",
    "    auto_trendline_values = polyval([a,b], master_trendlines.x)\n",
    "    plt.plot(master_trendlines.x, auto_trendline_values, linewidth = 3, color = 'red')\n",
    "    plt.title(auto_linear_trendline_equation, fontsize = 10, y = 0.9)\n",
    "    plt.xlabel('x')\n",
    "    plt.ylabel('autofluorescence')\n",
    "    #save auto scatter plot as PDF to working directory\n",
    "    plt.show()\n",
    "    plt.savefig('auto_plot_' + file_name + '.pdf')\n",
    "    \n",
    "    #determine gcamp linear trendline equation\n",
    "    (c, d) = polyfit(master_trendlines.x, master_trendlines.gc_d0, 1)\n",
    "    gcamp_linear_trendline_equation = 'y = ' + str(round(c, 5)) + 'x + ' + str(round(d, 5))\n",
    "    \n",
    "    #create gcamp scatter plot with gcamp linear trendline\n",
    "    plt.scatter(master_trendlines.x, master_trendlines.gc_d0, color = 'blue', s = 10)\n",
    "    gcamp_trendline_values = polyval([c,d], master_trendlines.x)\n",
    "    plt.plot(master_trendlines.x, gcamp_trendline_values, linewidth = 3, color = 'red')\n",
    "    plt.title(gcamp_linear_trendline_equation, fontsize = 10, y = 0.9)\n",
    "    plt.xlabel('x')\n",
    "    plt.ylabel('gcamp')\n",
    "    #save gcamp scatter plot as PDF to working directory\n",
    "    plt.show()\n",
    "    plt.savefig('gcamp_plot_' + file_name + '.pdf')\n",
    "    \n",
    "    \n",
    "    #create master_calculations pandas DataFrame\n",
    "    master_calculations = master_input\n",
    "    #reset master_calculations row index \n",
    "    master_calculations = master_calculations.reset_index(drop = True)\n",
    "    #create x_master_calculations (ranging from 1 to # rows in master_calculations) pandas DataFrame\n",
    "    x_range_master_calculations = master_calculations.axes[0] - (master_calculations.axes[0][0] - 1)\n",
    "    x_master_calculations = pd.DataFrame({'x': x_range_master_calculations})\n",
    "    #add x_master_calculations to master_calculations \n",
    "    master_calculations = pd.concat([x_master_calculations, master_calculations], axis = 1, join = 'inner')\n",
    "    \n",
    "    #create auto_trendline_y pandas DataFrame \n",
    "    auto_y_list = []\n",
    "    for x in x_range_master_calculations:\n",
    "        y = a*x + b \n",
    "        auto_y_list.append(y)\n",
    "    auto_y_array = np.array(auto_y_list)\n",
    "    auto_trendline_y = pd.DataFrame({'auto_trendline_y': auto_y_array})\n",
    "    #add auto_trendline_y to master_calculations\n",
    "    master_calculations = pd.concat([master_calculations, auto_trendline_y], axis = 1, join = 'inner')\n",
    "    #create gcamp_trendline_y pandas DataFrame\n",
    "    gcamp_y_list = []\n",
    "    for x in x_range_master_calculations:\n",
    "        y = c*x + d \n",
    "        gcamp_y_list.append(y)\n",
    "    gcamp_y_array = np.array(gcamp_y_list)\n",
    "    gcamp_trendline_y = pd.DataFrame({'gcamp_trendline_y': gcamp_y_array})\n",
    "    #add gcamp_trendline_y to master_calculations\n",
    "    master_calculations = pd.concat([master_calculations, gcamp_trendline_y], axis = 1, join = 'inner')\n",
    "    \n",
    "    #subtract auto_trendline_y from auto to create auto_fit column in master_calculations\n",
    "    master_calculations['auto_fit'] = master_calculations['auto_d0'] - master_calculations['auto_trendline_y']\n",
    "    #subtract gcamp_trendline_y from gcamp to create gcamp_fit column in master_calculations\n",
    "    master_calculations['gcamp_fit'] = master_calculations['gc_d0'] - master_calculations['gcamp_trendline_y']\n",
    "    \n",
    "    #add gcamp_trendline y-intercept to auto_fit to create auto_fit column in master_calculations\n",
    "    master_calculations['auto_final'] = d + master_calculations['auto_fit']\n",
    "    #add gcamp_trendline y-intercept to gcamp_fit to create gcamp_fit column in master_calculations\n",
    "    master_calculations['gcamp_final'] = d + master_calculations['gcamp_fit']\n",
    "    \n",
    "    #calculate delta f/f (dff) and create dff column in master_calculations\n",
    "    master_calculations['dff']= ((master_calculations['gcamp_final'] - master_calculations['auto_final'])/master_calculations['auto_final'])*100\n",
    "\n",
    "    #write out master_calculations as a csv file to working directory\n",
    "    master_calculations.to_csv('master_calculations_' + file_name + '.csv')\n",
    "    \n",
    "    #determine the rows in which pulse occurs\n",
    "    pulse_rows_dff = master_calculations.loc[master_calculations.pulses_d0 > 1].index[:].tolist()\n",
    "    #determine the rows in which pulse onset occurs\n",
    "    pulse_onset_rows_dff = [pulse_rows_dff[0]]\n",
    "    for i in range(2, len(pulse_rows_dff)):\n",
    "        if pulse_rows_dff[i] > pulse_rows_dff[i - 1] + 1: \n",
    "            pulse_onset_rows_dff.append(pulse_rows_dff[i])\n",
    "    #determine the times in which pulse onset occurs\n",
    "    pulse_onset_time_dff = list(master_calculations.time.loc[pulse_onset_rows_dff])\n",
    "    #create dff line plot\n",
    "    fig, ax = plt.subplots()\n",
    "    ax.plot(master_calculations.time, master_calculations.dff, color = 'blue')\n",
    "    ax.set_xlabel('time (sec)')\n",
    "    ax.set_ylabel('delta f/f')\n",
    "    x = 0\n",
    "    while x < len(pulse_onset_time_dff):\n",
    "        ax.annotate(' ', xy =(pulse_onset_time_dff[x], min(master_calculations.dff)), arrowprops = dict(facecolor = 'black', shrink = 0.05))\n",
    "        x = x + 1\n",
    "    arrow = mlines.Line2D([], [], color = 'black', marker = '^', markersize = 12, label = 'pulse onset')\n",
    "    ax.legend(handles = [arrow])\n",
    "    #save dff line plot as PDF to working directory\n",
    "    fig.savefig('dff_plot_' + file_name + '.pdf') \n",
    "    \n",
    "    print('Success')\n",
    "    \n"
   ]
  },
  {
   "cell_type": "code",
   "execution_count": 22,
   "metadata": {},
   "outputs": [
    {
     "name": "stdout",
     "output_type": "stream",
     "text": [
      "              time     auto_d0       gc_d0  pulses_d0\n",
      "1081    136.021279  337.760132  485.206604        5.0\n",
      "1224    154.014843  336.522797  485.088226        5.0\n",
      "1320    166.094438  336.857880  482.434509        5.0\n",
      "1407    177.041572  336.672577  483.199310        5.0\n",
      "1582    199.061668  336.933838  485.312592        5.0\n",
      "2456    309.036319  335.745178  489.031189        5.0\n",
      "2560    322.122547  335.544067  482.522827        5.0\n",
      "2671    336.089580  335.046448  483.736481        5.0\n",
      "2750    346.030080  335.086700  481.433167        5.0\n",
      "3315    417.123533  334.461121  481.133667        5.0\n",
      "3895    490.104422  334.813660  480.102600        5.0\n",
      "3966    499.038290  334.444855  478.310699        5.0\n",
      "4046    509.104620  334.493164  477.842926        5.0\n",
      "4284    539.051950  334.143738  479.878021        5.0\n",
      "5381    677.086495  333.200745  470.659149        5.0\n",
      "5484    690.046894  333.327606  471.144196        5.0\n",
      "5579    702.000660  333.560761  469.335388        5.0\n",
      "6756    850.101535  332.051117  467.863098        5.0\n",
      "6867    864.068567  332.779785  464.586914        5.0\n",
      "8194   1031.043809  332.287476  464.287628        5.0\n",
      "8290   1043.123405  332.059082  462.614258        5.0\n",
      "8830   1111.071130  332.158935  462.182282        5.0\n",
      "9633   1212.111913  331.736328  459.708710        5.0\n",
      "11087  1395.067453  331.457153  455.235992        5.0\n",
      "11246  1415.074284  331.103973  452.711121        5.0\n"
     ]
    }
   ],
   "source": [
    "# Showing where (what rows) the rest of the pulses are located\n",
    "subset = master_df[master_df['pulses_d0'] == 5]\n",
    "print(subset)"
   ]
  },
  {
   "cell_type": "code",
   "execution_count": 23,
   "metadata": {},
   "outputs": [
    {
     "name": "stdout",
     "output_type": "stream",
     "text": [
      "pulse_onset = 8290\n",
      "begin_input = 8250\n",
      "end_input = 8370\n",
      "A1_pellet_8290\n"
     ]
    },
    {
     "data": {
      "image/png": "[encoded data removed]",
      "text/plain": [
       "<matplotlib.figure.Figure at 0x11019a9b0>"
      ]
     },
     "metadata": {},
     "output_type": "display_data"
    },
    {
     "data": {
      "image/png": "[encoded data removed]",
      "text/plain": [
       "<matplotlib.figure.Figure at 0x10b9b0e48>"
      ]
     },
     "metadata": {},
     "output_type": "display_data"
    },
    {
     "name": "stdout",
     "output_type": "stream",
     "text": [
      "Success\n"
     ]
    },
    {
     "data": {
      "text/plain": [
       "<matplotlib.figure.Figure at 0x113b44278>"
      ]
     },
     "metadata": {},
     "output_type": "display_data"
    },
    {
     "data": {
      "image/png": "[encoded data removed]",
      "text/plain": [
       "<matplotlib.figure.Figure at 0x113b54240>"
      ]
     },
     "metadata": {},
     "output_type": "display_data"
    }
   ],
   "source": [
    "DF_F_analysis(indx=8290, lower=40, upper=80, m_df=master_df)"
   ]
  },
  {
   "cell_type": "code",
   "execution_count": null,
   "metadata": {},
   "outputs": [],
   "source": []
  },
  {
   "cell_type": "code",
   "execution_count": null,
   "metadata": {},
   "outputs": [],
   "source": []
  }
 ],
 "metadata": {
  "kernelspec": {
   "display_name": "Python 3",
   "language": "python",
   "name": "python3"
  },
  "language_info": {
   "codemirror_mode": {
    "name": "ipython",
    "version": 3
   },
   "file_extension": ".py",
   "mimetype": "text/x-python",
   "name": "python",
   "nbconvert_exporter": "python",
   "pygments_lexer": "ipython3",
   "version": "3.6.4"
  }
 },
 "nbformat": 4,
 "nbformat_minor": 2
}
